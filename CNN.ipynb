{
 "cells": [
  {
   "cell_type": "code",
   "execution_count": 1,
   "metadata": {},
   "outputs": [],
   "source": [
    "#importing necessary modules or library\n",
    "from tensorflow.keras.layers import Dense, Input, Flatten, Conv2D, MaxPool2D\n",
    "from tensorflow.keras.models import Model\n",
    "import matplotlib.pyplot as plt"
   ]
  },
  {
   "cell_type": "code",
   "execution_count": null,
   "metadata": {},
   "outputs": [],
   "source": [
    "def build_model(): # define a function named build_model for building a model\n",
    "\t\n",
    "\tinputs = Input((28, 28, 1)) # input size 28x28 and 1 denotes that it is a grayscale image with single channel\n",
    "\tx = Conv2D(10, (3,3), strides=(2,2), padding = 'valid')(inputs) # 1st conv layer:10= kernel number, 3x3=kernel size, valid= no padding needed\n",
    "\tx = Conv2D(4, (2,2), strides=(2,2), padding = 'valid')(x)#2nd conv layer \n",
    "\tx = Flatten()(x)#flatten layer\n",
    "\tx = Dense(100, activation = 'relu')(x) #dense layer with ReLU activation function\n",
    "\toutputs = Dense(10, activation='softmax')(x) #output layer of 10 class with softmax activation\n",
    "    \n",
    "\tmodel = Model(inputs, outputs)\n",
    "\tmodel.summary()\n",
    "    \n",
    "\tmodel.compile(loss = 'mse', optimizer='rmsprop')\n",
    "    \n",
    "\treturn model"
   ]
  },
  {
   "cell_type": "code",
   "execution_count": null,
   "metadata": {},
   "outputs": [],
   "source": [
    "def main():\n",
    "\tmodel = build_model()"
   ]
  },
  {
   "cell_type": "code",
   "execution_count": null,
   "metadata": {},
   "outputs": [],
   "source": [
    "if __name__ == \"__main__\":\n",
    "\tmain()"
   ]
  }
 ],
 "metadata": {
  "kernelspec": {
   "display_name": "Python 3",
   "language": "python",
   "name": "python3"
  },
  "language_info": {
   "codemirror_mode": {
    "name": "ipython",
    "version": 3
   },
   "file_extension": ".py",
   "mimetype": "text/x-python",
   "name": "python",
   "nbconvert_exporter": "python",
   "pygments_lexer": "ipython3",
   "version": "3.8.5"
  }
 },
 "nbformat": 4,
 "nbformat_minor": 4
}
