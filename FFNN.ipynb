{
 "cells": [
  {
   "cell_type": "code",
   "execution_count": 1,
   "metadata": {},
   "outputs": [],
   "source": [
    "#Import necessary modules, libraries\n",
    "import tensorflow as tf\n",
    "from tensorflow import keras\n",
    "from tensorflow.keras import layers"
   ]
  },
  {
   "cell_type": "code",
   "execution_count": 2,
   "metadata": {},
   "outputs": [],
   "source": [
    "#Define a function named build_model for FFNN model building\n",
    "def build_model():\n",
    "    # input layer with 28x28 image\n",
    "    inputs = Input((28, 28))\n",
    "    # flattening the input layer to make 1D representation of the 2D image(28x28)\n",
    "    x = Flatten()(inputs)\n",
    "    # a dense layer with 32 neuron and sigmoid activation function\n",
    "    x = Dense(32, activation = 'sigmoid')(x)\n",
    "    # another dense layer with 16 neuron and sigmoid activation function\n",
    "    x = Dense(16, activation = 'sigmoid')(x)\n",
    "    # output layer with 3 neuron, here 3 also represents the class in output layer\n",
    "    outputs = Dense(3)(x)\n",
    "    # a model; supplied the inputs and outputs\n",
    "    model = Model(inputs, outputs)\n",
    "    # summary describe the model as it's layer, output shape, parameter and more\n",
    "    model.summary()\n",
    "    # this function determines the loss measured with means squared error(mse)\n",
    "    model.compile(loss = 'mse')\n",
    "    # build_model function will return the model\n",
    "    return model  \n",
    "    "
   ]
  },
  {
   "cell_type": "markdown",
   "metadata": {},
   "source": [
    "inputs = Input((28, 28))\n",
    "x = Flatten()(inputs)\n",
    "x = Dense(32, activation = 'sigmoid')(x)\n",
    "x = Dense(16, activation = 'sigmoid')(x)\n",
    "outputs = Dense(3)(x)\n",
    "model = Model(inputs, outputs)\n",
    "#model.summary()\n",
    "model.compile(loss = 'mse')"
   ]
  },
  {
   "cell_type": "code",
   "execution_count": 4,
   "metadata": {},
   "outputs": [],
   "source": [
    "#build_model().layers"
   ]
  },
  {
   "cell_type": "code",
   "execution_count": 32,
   "metadata": {},
   "outputs": [],
   "source": [
    "# define the main function\n",
    "def main():\n",
    "    # in this main funtion call the build_model function\n",
    "    model = build_model()"
   ]
  },
  {
   "cell_type": "code",
   "execution_count": 33,
   "metadata": {},
   "outputs": [
    {
     "name": "stdout",
     "output_type": "stream",
     "text": [
      "Model: \"model_9\"\n",
      "_________________________________________________________________\n",
      " Layer (type)                Output Shape              Param #   \n",
      "=================================================================\n",
      " input_10 (InputLayer)       [(None, 28, 28)]          0         \n",
      "                                                                 \n",
      " flatten_9 (Flatten)         (None, 784)               0         \n",
      "                                                                 \n",
      " dense_33 (Dense)            (None, 32)                25120     \n",
      "                                                                 \n",
      " dense_34 (Dense)            (None, 16)                528       \n",
      "                                                                 \n",
      " dense_35 (Dense)            (None, 3)                 51        \n",
      "                                                                 \n",
      "=================================================================\n",
      "Total params: 25,699\n",
      "Trainable params: 25,699\n",
      "Non-trainable params: 0\n",
      "_________________________________________________________________\n"
     ]
    }
   ],
   "source": [
    "# Execute the main function\n",
    "if __name__ == \"__main__\":\n",
    "\tmain()"
   ]
  },
  {
   "cell_type": "markdown",
   "metadata": {},
   "source": [
    "The number of parameters is 25120 because with every hidden unit you have 784 input weights and 1 weight of connection with bias. This means that every hidden unit gives you (784+1=)785 parameters. You have 32 units so it sums up to 785*32=25120.\n",
    "\n",
    "Similarly, (32+1)*16=528\n",
    "(16+1)*3=51"
   ]
  },
  {
   "cell_type": "code",
   "execution_count": null,
   "metadata": {},
   "outputs": [],
   "source": []
  }
 ],
 "metadata": {
  "kernelspec": {
   "display_name": "Python 3",
   "language": "python",
   "name": "python3"
  },
  "language_info": {
   "codemirror_mode": {
    "name": "ipython",
    "version": 3
   },
   "file_extension": ".py",
   "mimetype": "text/x-python",
   "name": "python",
   "nbconvert_exporter": "python",
   "pygments_lexer": "ipython3",
   "version": "3.8.5"
  }
 },
 "nbformat": 4,
 "nbformat_minor": 4
}
