{
 "cells": [
  {
   "cell_type": "code",
   "execution_count": 61,
   "metadata": {},
   "outputs": [],
   "source": [
    "# Import necessary libraries and modules\n",
    "from tensorflow.keras.layers import Dense, Input, Flatten, Conv2D, MaxPool2D #Max pooling operation for 2D spatial data.\n",
    "from tensorflow.keras.models import Model\n",
    "import matplotlib.pyplot as plt"
   ]
  },
  {
   "cell_type": "code",
   "execution_count": 98,
   "metadata": {},
   "outputs": [],
   "source": [
    "# defining a model named build_model\n",
    "def build_model():\n",
    "\tinputs = Input((256, 256, 3))\n",
    "\tx = Conv2D(64, (3,3), strides=(1,1), padding = 'valid')(inputs)\n",
    "\tx = Conv2D(64, (3,3), strides=(1,1), padding = 'same')(x)\n",
    "\tx = MaxPool2D(2,2)(x)\n",
    "\tx = Conv2D(128, (3,3), strides=(1,1), padding = 'valid')(x)\n",
    "\tx = Conv2D(128, (3,3), strides=(1,1), padding = 'same')(x)\n",
    "\tx = MaxPool2D(2,2)(x)\n",
    "\tx = Conv2D(256, (3,3), strides=(1,1), padding = 'valid')(x)\n",
    "\tx = Conv2D(256, (3,3), strides=(1,1), padding = 'same')(x)\n",
    "\tx = MaxPool2D(2,2)(x)  \n",
    "\tx = Flatten()(x)\n",
    "\tx = Dense(128, activation = 'relu')(x)\n",
    "\tx = Dense(128, activation = 'relu')(x)\n",
    "\toutputs = Dense(10, activation='softmax')(x)\n",
    "\tmodel = Model(inputs, outputs)\n",
    "\tmodel.summary()\n",
    "\tmodel.compile(loss = 'mse', optimizer='rmsprop')\n",
    "    \n",
    "\treturn model"
   ]
  },
  {
   "cell_type": "code",
   "execution_count": 99,
   "metadata": {},
   "outputs": [],
   "source": [
    "def main():\n",
    "\tmodel = build_model()"
   ]
  },
  {
   "cell_type": "code",
   "execution_count": 100,
   "metadata": {},
   "outputs": [
    {
     "name": "stdout",
     "output_type": "stream",
     "text": [
      "Model: \"model_32\"\n",
      "_________________________________________________________________\n",
      " Layer (type)                Output Shape              Param #   \n",
      "=================================================================\n",
      " input_38 (InputLayer)       [(None, 256, 256, 3)]     0         \n",
      "                                                                 \n",
      " conv2d_104 (Conv2D)         (None, 254, 254, 64)      1792      \n",
      "                                                                 \n",
      " conv2d_105 (Conv2D)         (None, 254, 254, 64)      36928     \n",
      "                                                                 \n",
      " max_pooling2d_44 (MaxPoolin  (None, 127, 127, 64)     0         \n",
      " g2D)                                                            \n",
      "                                                                 \n",
      " conv2d_106 (Conv2D)         (None, 125, 125, 128)     73856     \n",
      "                                                                 \n",
      " conv2d_107 (Conv2D)         (None, 125, 125, 128)     147584    \n",
      "                                                                 \n",
      " max_pooling2d_45 (MaxPoolin  (None, 62, 62, 128)      0         \n",
      " g2D)                                                            \n",
      "                                                                 \n",
      " conv2d_108 (Conv2D)         (None, 60, 60, 256)       295168    \n",
      "                                                                 \n",
      " conv2d_109 (Conv2D)         (None, 60, 60, 256)       590080    \n",
      "                                                                 \n",
      " max_pooling2d_46 (MaxPoolin  (None, 30, 30, 256)      0         \n",
      " g2D)                                                            \n",
      "                                                                 \n",
      " flatten_35 (Flatten)        (None, 230400)            0         \n",
      "                                                                 \n",
      " dense_58 (Dense)            (None, 128)               29491328  \n",
      "                                                                 \n",
      " dense_59 (Dense)            (None, 128)               16512     \n",
      "                                                                 \n",
      " dense_60 (Dense)            (None, 10)                1290      \n",
      "                                                                 \n",
      "=================================================================\n",
      "Total params: 30,654,538\n",
      "Trainable params: 30,654,538\n",
      "Non-trainable params: 0\n",
      "_________________________________________________________________\n"
     ]
    }
   ],
   "source": [
    "if __name__ == \"__main__\":\n",
    "\tmain()"
   ]
  },
  {
   "cell_type": "code",
   "execution_count": null,
   "metadata": {},
   "outputs": [],
   "source": []
  }
 ],
 "metadata": {
  "kernelspec": {
   "display_name": "Python 3",
   "language": "python",
   "name": "python3"
  },
  "language_info": {
   "codemirror_mode": {
    "name": "ipython",
    "version": 3
   },
   "file_extension": ".py",
   "mimetype": "text/x-python",
   "name": "python",
   "nbconvert_exporter": "python",
   "pygments_lexer": "ipython3",
   "version": "3.8.5"
  }
 },
 "nbformat": 4,
 "nbformat_minor": 4
}
