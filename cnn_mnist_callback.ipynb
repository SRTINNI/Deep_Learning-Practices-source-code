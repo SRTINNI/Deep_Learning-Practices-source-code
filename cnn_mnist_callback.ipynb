{
 "cells": [
  {
   "cell_type": "code",
   "execution_count": 17,
   "metadata": {},
   "outputs": [],
   "source": [
    "import keras\n",
    "from keras.utils.np_utils import to_categorical\n",
    "from keras.datasets import mnist\n",
    "\n",
    "# Loading data\n",
    "(train_images, train_labels), (test_images, test_labels)= mnist.load_data()\n",
    "\n",
    "# Reshaping data-Adding number of channels as 1 (Grayscale images)\n",
    "train_images = train_images.reshape((train_images.shape[0],\n",
    "\t\t\t\t\t\t\t\t\ttrain_images.shape[1],\n",
    "\t\t\t\t\t\t\t\t\ttrain_images.shape[2], 1))\n",
    "\n",
    "test_images = test_images.reshape((test_images.shape[0],\n",
    "\t\t\t\t\t\t\t\ttest_images.shape[1],\n",
    "\t\t\t\t\t\t\t\ttest_images.shape[2], 1))\n",
    "\n",
    "# Scaling down pixel values\n",
    "train_images = train_images.astype('float32')/255\n",
    "test_images = test_images.astype('float32')/255\n",
    "\n",
    "# Encoding labels to a binary class matrix\n",
    "y_train = to_categorical(train_labels)\n",
    "y_test = to_categorical(test_labels)"
   ]
  },
  {
   "cell_type": "code",
   "execution_count": 18,
   "metadata": {},
   "outputs": [
    {
     "name": "stdout",
     "output_type": "stream",
     "text": [
      "Model: \"sequential_1\"\n",
      "_________________________________________________________________\n",
      " Layer (type)                Output Shape              Param #   \n",
      "=================================================================\n",
      " conv2d_2 (Conv2D)           (None, 26, 26, 32)        320       \n",
      "                                                                 \n",
      " max_pooling2d_2 (MaxPooling  (None, 13, 13, 32)       0         \n",
      " 2D)                                                             \n",
      "                                                                 \n",
      " conv2d_3 (Conv2D)           (None, 11, 11, 64)        18496     \n",
      "                                                                 \n",
      " max_pooling2d_3 (MaxPooling  (None, 5, 5, 64)         0         \n",
      " 2D)                                                             \n",
      "                                                                 \n",
      " flatten_5 (Flatten)         (None, 1600)              0         \n",
      "                                                                 \n",
      " dense_10 (Dense)            (None, 64)                102464    \n",
      "                                                                 \n",
      " dense_11 (Dense)            (None, 10)                650       \n",
      "                                                                 \n",
      "=================================================================\n",
      "Total params: 121,930\n",
      "Trainable params: 121,930\n",
      "Non-trainable params: 0\n",
      "_________________________________________________________________\n"
     ]
    }
   ],
   "source": [
    "from keras import models\n",
    "from keras import layers\n",
    "\n",
    "model = models.Sequential()\n",
    "model.add(layers.Conv2D(32, (3, 3), activation =\"relu\",\n",
    "\t\t\t\t\t\t\tinput_shape =(28, 28, 1)))\n",
    "model.add(layers.MaxPooling2D(2, 2))\n",
    "model.add(layers.Conv2D(64, (3, 3), activation =\"relu\"))\n",
    "model.add(layers.MaxPooling2D(2, 2))\n",
    "model.add(layers.Flatten())\n",
    "model.add(layers.Dense(64, activation =\"relu\"))\n",
    "model.add(layers.Dense(10, activation =\"softmax\"))\n",
    "\n",
    "model.summary()"
   ]
  },
  {
   "cell_type": "code",
   "execution_count": 19,
   "metadata": {},
   "outputs": [],
   "source": [
    "model.compile(optimizer =\"rmsprop\", loss =\"categorical_crossentropy\",\n",
    "\t\t\t\t\t\t\t\t\t\t\tmetrics =['accuracy'])\n"
   ]
  },
  {
   "cell_type": "code",
   "execution_count": 20,
   "metadata": {},
   "outputs": [],
   "source": [
    "val_images = train_images[:10000]\n",
    "partial_images = train_images[10000:]\n",
    "val_labels = y_train[:10000]\n",
    "partial_labels = y_train[10000:]"
   ]
  },
  {
   "cell_type": "code",
   "execution_count": 21,
   "metadata": {},
   "outputs": [
    {
     "name": "stdout",
     "output_type": "stream",
     "text": [
      "Epoch 1/25\n",
      "391/391 [==============================] - 35s 85ms/step - loss: 0.2604 - accuracy: 0.9217 - val_loss: 0.0934 - val_accuracy: 0.9734\n",
      "Epoch 2/25\n",
      "391/391 [==============================] - 33s 84ms/step - loss: 0.0661 - accuracy: 0.9796 - val_loss: 0.0754 - val_accuracy: 0.9778\n",
      "Epoch 3/25\n",
      "391/391 [==============================] - 31s 79ms/step - loss: 0.0433 - accuracy: 0.9869 - val_loss: 0.0638 - val_accuracy: 0.9826\n",
      "Epoch 4/25\n",
      "391/391 [==============================] - 34s 88ms/step - loss: 0.0320 - accuracy: 0.9901 - val_loss: 0.0539 - val_accuracy: 0.9864\n",
      "Epoch 5/25\n",
      "391/391 [==============================] - 34s 87ms/step - loss: 0.0251 - accuracy: 0.9924 - val_loss: 0.0455 - val_accuracy: 0.9873\n",
      "Epoch 6/25\n",
      "391/391 [==============================] - 36s 93ms/step - loss: 0.0199 - accuracy: 0.9940 - val_loss: 0.0505 - val_accuracy: 0.9865\n",
      "Epoch 7/25\n",
      "391/391 [==============================] - 32s 83ms/step - loss: 0.0164 - accuracy: 0.9951 - val_loss: 0.0417 - val_accuracy: 0.9896\n",
      "Epoch 8/25\n",
      "391/391 [==============================] - 31s 78ms/step - loss: 0.0128 - accuracy: 0.9958 - val_loss: 0.0489 - val_accuracy: 0.9873\n",
      "Epoch 9/25\n",
      "391/391 [==============================] - 31s 80ms/step - loss: 0.0099 - accuracy: 0.9969 - val_loss: 0.0560 - val_accuracy: 0.9872\n",
      "Epoch 10/25\n",
      "391/391 [==============================] - 33s 84ms/step - loss: 0.0083 - accuracy: 0.9975 - val_loss: 0.0465 - val_accuracy: 0.9890\n",
      "Epoch 11/25\n",
      "391/391 [==============================] - 32s 83ms/step - loss: 0.0076 - accuracy: 0.9976 - val_loss: 0.0541 - val_accuracy: 0.9880\n",
      "Epoch 12/25\n",
      "391/391 [==============================] - 37s 94ms/step - loss: 0.0055 - accuracy: 0.9982 - val_loss: 0.0617 - val_accuracy: 0.9882\n"
     ]
    }
   ],
   "source": [
    "from keras import callbacks\n",
    "earlystopping = callbacks.EarlyStopping(monitor =\"val_loss\",\n",
    "\t\t\t\t\t\t\t\t\t\tmode =\"min\", patience = 5,\n",
    "\t\t\t\t\t\t\t\t\t\trestore_best_weights = True)\n",
    "\n",
    "history = model.fit(partial_images, partial_labels, batch_size = 128,\n",
    "\t\t\t\t\tepochs = 25, validation_data =(val_images, val_labels),\n",
    "\t\t\t\t\tcallbacks =[earlystopping])\n"
   ]
  },
  {
   "cell_type": "code",
   "execution_count": null,
   "metadata": {},
   "outputs": [],
   "source": []
  },
  {
   "cell_type": "code",
   "execution_count": null,
   "metadata": {},
   "outputs": [],
   "source": []
  }
 ],
 "metadata": {
  "kernelspec": {
   "display_name": "Python 3",
   "language": "python",
   "name": "python3"
  },
  "language_info": {
   "codemirror_mode": {
    "name": "ipython",
    "version": 3
   },
   "file_extension": ".py",
   "mimetype": "text/x-python",
   "name": "python",
   "nbconvert_exporter": "python",
   "pygments_lexer": "ipython3",
   "version": "3.8.5"
  }
 },
 "nbformat": 4,
 "nbformat_minor": 4
}
